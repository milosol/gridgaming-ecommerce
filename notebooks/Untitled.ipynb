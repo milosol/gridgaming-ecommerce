{
 "cells": [
  {
   "cell_type": "code",
   "execution_count": 2,
   "metadata": {},
   "outputs": [],
   "source": [
    "import os, sys\n",
    "path_parent = os.path.dirname(os.getcwd())\n",
    "#os.chdir(parent_path)\n",
    "sys.path.insert(0, path_parent)\n",
    "os.environ.setdefault(\"DJANGO_SETTINGS_MODULE\", 'gridgaming.settings.development')\n",
    "import django\n",
    "django.setup()\n",
    "\n",
    "from core.models import UserProfile\n",
    "\n",
    "from core.models import OrderItem"
   ]
  },
  {
   "cell_type": "code",
   "execution_count": 6,
   "metadata": {},
   "outputs": [],
   "source": [
    "a= OrderItem.objects.get(id=40)"
   ]
  },
  {
   "cell_type": "code",
   "execution_count": 8,
   "metadata": {},
   "outputs": [
    {
     "data": {
      "text/plain": [
       "'dnpthree@gmail.com'"
      ]
     },
     "execution_count": 8,
     "metadata": {},
     "output_type": "execute_result"
    }
   ],
   "source": [
    "a.user.email"
   ]
  },
  {
   "cell_type": "code",
   "execution_count": 15,
   "metadata": {},
   "outputs": [
    {
     "name": "stdout",
     "output_type": "stream",
     "text": [
      "abjohn.robert@gmail.com\n",
      "abrahamsalem@gmail.com\n",
      "apwtwenty@gmail.com\n",
      "bethelight86@gmail.com\n",
      "blaindierks@gmail.com\n",
      "blkmask24@yahoo.com\n",
      "bmart74@comcast.net\n",
      "business.quincythomas@gmail.com\n",
      "charliebravostream@gmail.com\n",
      "clashwithaaronm@gmail.com\n",
      "cmersman@me.com\n",
      "contact@sweeps.gg\n",
      "cyberlightgames@gmail.com\n",
      "dregzentwitch@gmail.com\n",
      "ebonymhope@aol.com\n",
      "edniter@gmail.com\n",
      "eind.business@gmail.com\n",
      "emmlionheart@gmail.com\n",
      "famous420twitch@gmail.com\n",
      "georgegalloway80@gmail.com\n",
      "grimpops@gmail.com\n",
      "hisownhero@gmail.com\n",
      "ijustcie@yahoo.com\n",
      "jaredfps@gmail.com\n",
      "javierb623@gmail.com\n",
      "jeffreyhardin3@gmail.com\n",
      "jessicarocks11@gmail.com\n",
      "marblemondays@yahoo.com\n",
      "markgourley@outlook.com\n",
      "midknightrydr@outlook.com\n",
      "notimedadmedia@gmail.com\n",
      "paigemcneal00@gmail.com\n",
      "reapercub@hotmail.com\n",
      "rm.tamayo@hotmail.com\n",
      "sapotiros@live.it\n",
      "singlesourcecooks@gmail.com\n",
      "soccerthrty2games@gmail.com\n",
      "spc_jones79@yahoo.com\n",
      "starsita.nova@gmail.com\n",
      "terrell88tv@gmail.com\n",
      "thesilencewrecks@gmail.com\n",
      "vesi112@hotmail.com\n",
      "xalwaysxtv@gmail.com\n",
      "yesambabydoll@gmail.com\n",
      "zleverace@gmail.com\n"
     ]
    }
   ],
   "source": [
    "import pandas as pd\n",
    "for x in pd.Series(emails.split('\\n')).drop_duplicates():\n",
    "    print(x)"
   ]
  },
  {
   "cell_type": "code",
   "execution_count": 9,
   "metadata": {},
   "outputs": [],
   "source": [
    "emails = \"\"\"abjohn.robert@gmail.com\n",
    "abjohn.robert@gmail.com\n",
    "abrahamsalem@gmail.com\n",
    "apwtwenty@gmail.com\n",
    "bethelight86@gmail.com\n",
    "blaindierks@gmail.com\n",
    "blkmask24@yahoo.com\n",
    "bmart74@comcast.net\n",
    "business.quincythomas@gmail.com\n",
    "charliebravostream@gmail.com\n",
    "clashwithaaronm@gmail.com\n",
    "clashwithaaronm@gmail.com\n",
    "cmersman@me.com\n",
    "contact@sweeps.gg\n",
    "cyberlightgames@gmail.com\n",
    "dregzentwitch@gmail.com\n",
    "dregzentwitch@gmail.com\n",
    "ebonymhope@aol.com\n",
    "ebonymhope@aol.com\n",
    "edniter@gmail.com\n",
    "edniter@gmail.com\n",
    "edniter@gmail.com\n",
    "edniter@gmail.com\n",
    "eind.business@gmail.com\n",
    "eind.business@gmail.com\n",
    "emmlionheart@gmail.com\n",
    "famous420twitch@gmail.com\n",
    "famous420twitch@gmail.com\n",
    "famous420twitch@gmail.com\n",
    "georgegalloway80@gmail.com\n",
    "grimpops@gmail.com\n",
    "hisownhero@gmail.com\n",
    "ijustcie@yahoo.com\n",
    "ijustcie@yahoo.com\n",
    "jaredfps@gmail.com\n",
    "jaredfps@gmail.com\n",
    "jaredfps@gmail.com\n",
    "jaredfps@gmail.com\n",
    "javierb623@gmail.com\n",
    "javierb623@gmail.com\n",
    "jeffreyhardin3@gmail.com\n",
    "jessicarocks11@gmail.com\n",
    "marblemondays@yahoo.com\n",
    "marblemondays@yahoo.com\n",
    "markgourley@outlook.com\n",
    "midknightrydr@outlook.com\n",
    "notimedadmedia@gmail.com\n",
    "notimedadmedia@gmail.com\n",
    "notimedadmedia@gmail.com\n",
    "paigemcneal00@gmail.com\n",
    "reapercub@hotmail.com\n",
    "rm.tamayo@hotmail.com\n",
    "rm.tamayo@hotmail.com\n",
    "sapotiros@live.it\n",
    "singlesourcecooks@gmail.com\n",
    "soccerthrty2games@gmail.com\n",
    "spc_jones79@yahoo.com\n",
    "starsita.nova@gmail.com\n",
    "starsita.nova@gmail.com\n",
    "starsita.nova@gmail.com\n",
    "terrell88tv@gmail.com\n",
    "thesilencewrecks@gmail.com\n",
    "vesi112@hotmail.com\n",
    "vesi112@hotmail.com\n",
    "xalwaysxtv@gmail.com\n",
    "xalwaysxtv@gmail.com\n",
    "xalwaysxtv@gmail.com\n",
    "yesambabydoll@gmail.com\n",
    "zleverace@gmail.com\n",
    "zleverace@gmail.com\"\"\""
   ]
  }
 ],
 "metadata": {
  "kernelspec": {
   "display_name": "Django Shell-Plus",
   "language": "python",
   "name": "django_extensions"
  },
  "language_info": {
   "codemirror_mode": {
    "name": "ipython",
    "version": 3
   },
   "file_extension": ".py",
   "mimetype": "text/x-python",
   "name": "python",
   "nbconvert_exporter": "python",
   "pygments_lexer": "ipython3",
   "version": "3.8.2"
  }
 },
 "nbformat": 4,
 "nbformat_minor": 4
}
