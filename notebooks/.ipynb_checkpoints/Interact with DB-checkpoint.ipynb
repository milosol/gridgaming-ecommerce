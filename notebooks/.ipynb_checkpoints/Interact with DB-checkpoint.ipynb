{
 "cells": [
  {
   "cell_type": "code",
   "execution_count": 6,
   "metadata": {},
   "outputs": [],
   "source": [
    "import os, sys\n",
    "path_parent = os.path.dirname(os.getcwd())\n",
    "#os.chdir(parent_path)\n",
    "sys.path.insert(0, path_parent)\n",
    "os.environ.setdefault(\"DJANGO_SETTINGS_MODULE\", 'gridgaming.settings.development')\n",
    "import django\n",
    "django.setup()\n",
    "\n",
    "from core.models import UserProfile"
   ]
  }
 ],
 "metadata": {
  "kernelspec": {
   "display_name": "Django Shell-Plus",
   "language": "python",
   "name": "django_extensions"
  },
  "language_info": {
   "codemirror_mode": {
    "name": "ipython",
    "version": 3
   },
   "file_extension": ".py",
   "mimetype": "text/x-python",
   "name": "python",
   "nbconvert_exporter": "python",
   "pygments_lexer": "ipython3",
   "version": "3.8.2"
  }
 },
 "nbformat": 4,
 "nbformat_minor": 4
}
