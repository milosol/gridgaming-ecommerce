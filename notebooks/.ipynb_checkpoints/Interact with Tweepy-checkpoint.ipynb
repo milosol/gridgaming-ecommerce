{
 "cells": [
  {
   "cell_type": "code",
   "execution_count": 1,
   "metadata": {},
   "outputs": [],
   "source": [
    "#pip install -r ../requirements.txt"
   ]
  },
  {
   "cell_type": "code",
   "execution_count": 1,
   "metadata": {},
   "outputs": [],
   "source": [
    "#pip install --upgrade psycopg2"
   ]
  },
  {
   "cell_type": "code",
   "execution_count": 2,
   "metadata": {},
   "outputs": [
    {
     "ename": "RuntimeError",
     "evalue": "populate() isn't reentrant",
     "output_type": "error",
     "traceback": [
      "\u001b[1;31m---------------------------------------------------------------------------\u001b[0m",
      "\u001b[1;31mRuntimeError\u001b[0m                              Traceback (most recent call last)",
      "\u001b[1;32m<ipython-input-2-5709904f4fa2>\u001b[0m in \u001b[0;36m<module>\u001b[1;34m\u001b[0m\n\u001b[0;32m      5\u001b[0m \u001b[0mos\u001b[0m\u001b[1;33m.\u001b[0m\u001b[0menviron\u001b[0m\u001b[1;33m.\u001b[0m\u001b[0msetdefault\u001b[0m\u001b[1;33m(\u001b[0m\u001b[1;34m\"DJANGO_SETTINGS_MODULE\"\u001b[0m\u001b[1;33m,\u001b[0m \u001b[1;34m'gridgaming.settings.development'\u001b[0m\u001b[1;33m)\u001b[0m\u001b[1;33m\u001b[0m\u001b[0m\n\u001b[0;32m      6\u001b[0m \u001b[1;32mimport\u001b[0m \u001b[0mdjango\u001b[0m\u001b[1;33m\u001b[0m\u001b[0m\n\u001b[1;32m----> 7\u001b[1;33m \u001b[0mdjango\u001b[0m\u001b[1;33m.\u001b[0m\u001b[0msetup\u001b[0m\u001b[1;33m(\u001b[0m\u001b[1;33m)\u001b[0m\u001b[1;33m\u001b[0m\u001b[0m\n\u001b[0m\u001b[0;32m      8\u001b[0m \u001b[1;33m\u001b[0m\u001b[0m\n\u001b[0;32m      9\u001b[0m \u001b[1;32mfrom\u001b[0m \u001b[0mcore\u001b[0m\u001b[1;33m.\u001b[0m\u001b[0mmodels\u001b[0m \u001b[1;32mimport\u001b[0m \u001b[0mUserProfile\u001b[0m\u001b[1;33m\u001b[0m\u001b[0m\n",
      "\u001b[1;32m~\\Anaconda3\\lib\\site-packages\\django\\__init__.py\u001b[0m in \u001b[0;36msetup\u001b[1;34m(set_prefix)\u001b[0m\n\u001b[0;32m     22\u001b[0m             \u001b[1;34m'/'\u001b[0m \u001b[1;32mif\u001b[0m \u001b[0msettings\u001b[0m\u001b[1;33m.\u001b[0m\u001b[0mFORCE_SCRIPT_NAME\u001b[0m \u001b[1;32mis\u001b[0m \u001b[1;32mNone\u001b[0m \u001b[1;32melse\u001b[0m \u001b[0msettings\u001b[0m\u001b[1;33m.\u001b[0m\u001b[0mFORCE_SCRIPT_NAME\u001b[0m\u001b[1;33m\u001b[0m\u001b[0m\n\u001b[0;32m     23\u001b[0m         )\n\u001b[1;32m---> 24\u001b[1;33m     \u001b[0mapps\u001b[0m\u001b[1;33m.\u001b[0m\u001b[0mpopulate\u001b[0m\u001b[1;33m(\u001b[0m\u001b[0msettings\u001b[0m\u001b[1;33m.\u001b[0m\u001b[0mINSTALLED_APPS\u001b[0m\u001b[1;33m)\u001b[0m\u001b[1;33m\u001b[0m\u001b[0m\n\u001b[0m",
      "\u001b[1;32m~\\Anaconda3\\lib\\site-packages\\django\\apps\\registry.py\u001b[0m in \u001b[0;36mpopulate\u001b[1;34m(self, installed_apps)\u001b[0m\n\u001b[0;32m     81\u001b[0m                 \u001b[1;31m# Prevent reentrant calls to avoid running AppConfig.ready()\u001b[0m\u001b[1;33m\u001b[0m\u001b[1;33m\u001b[0m\u001b[0m\n\u001b[0;32m     82\u001b[0m                 \u001b[1;31m# methods twice.\u001b[0m\u001b[1;33m\u001b[0m\u001b[1;33m\u001b[0m\u001b[0m\n\u001b[1;32m---> 83\u001b[1;33m                 \u001b[1;32mraise\u001b[0m \u001b[0mRuntimeError\u001b[0m\u001b[1;33m(\u001b[0m\u001b[1;34m\"populate() isn't reentrant\"\u001b[0m\u001b[1;33m)\u001b[0m\u001b[1;33m\u001b[0m\u001b[0m\n\u001b[0m\u001b[0;32m     84\u001b[0m             \u001b[0mself\u001b[0m\u001b[1;33m.\u001b[0m\u001b[0mloading\u001b[0m \u001b[1;33m=\u001b[0m \u001b[1;32mTrue\u001b[0m\u001b[1;33m\u001b[0m\u001b[0m\n\u001b[0;32m     85\u001b[0m \u001b[1;33m\u001b[0m\u001b[0m\n",
      "\u001b[1;31mRuntimeError\u001b[0m: populate() isn't reentrant"
     ]
    }
   ],
   "source": [
    "import os, sys\n",
    "path_parent = os.path.dirname(os.getcwd())\n",
    "#os.chdir(parent_path)\n",
    "sys.path.insert(0, path_parent)\n",
    "os.environ.setdefault(\"DJANGO_SETTINGS_MODULE\", 'gridgaming.settings.development')\n",
    "import django\n",
    "django.setup()\n",
    "\n",
    "from core.models import UserProfile"
   ]
  },
  {
   "cell_type": "code",
   "execution_count": 4,
   "metadata": {},
   "outputs": [],
   "source": [
    "user = UserProfile.objects.get(user=2)"
   ]
  },
  {
   "cell_type": "code",
   "execution_count": 12,
   "metadata": {},
   "outputs": [],
   "source": [
    "user_twitter = user.user.socialaccount_set.reverse().filter(provider='twitter')"
   ]
  },
  {
   "cell_type": "code",
   "execution_count": 14,
   "metadata": {},
   "outputs": [
    {
     "data": {
      "text/plain": [
       "<QuerySet [<SocialAccount: DNPthree>]>"
      ]
     },
     "execution_count": 14,
     "metadata": {},
     "output_type": "execute_result"
    }
   ],
   "source": []
  },
  {
   "cell_type": "code",
   "execution_count": 16,
   "metadata": {},
   "outputs": [
    {
     "data": {
      "text/plain": [
       "(<django.db.models.fields.AutoField: id>,\n",
       " <django.db.models.fields.related.ForeignKey: user>,\n",
       " <django.db.models.fields.CharField: provider>,\n",
       " <django.db.models.fields.CharField: uid>,\n",
       " <django.db.models.fields.DateTimeField: last_login>,\n",
       " <django.db.models.fields.DateTimeField: date_joined>,\n",
       " <allauth.socialaccount.fields.JSONField: extra_data>)"
      ]
     },
     "execution_count": 16,
     "metadata": {},
     "output_type": "execute_result"
    }
   ],
   "source": [
    "user_twitter[0]._meta.fields"
   ]
  },
  {
   "cell_type": "code",
   "execution_count": 23,
   "metadata": {},
   "outputs": [],
   "source": [
    "t = user_twitter[0]"
   ]
  },
  {
   "cell_type": "code",
   "execution_count": 30,
   "metadata": {},
   "outputs": [
    {
     "data": {
      "text/plain": [
       "'http://pbs.twimg.com/profile_images/1238200454095437824/rVvoOoek.jpg'"
      ]
     },
     "execution_count": 30,
     "metadata": {},
     "output_type": "execute_result"
    }
   ],
   "source": [
    "t.get_avatar_url()"
   ]
  },
  {
   "cell_type": "code",
   "execution_count": 18,
   "metadata": {},
   "outputs": [
    {
     "ename": "SyntaxError",
     "evalue": "invalid syntax (<ipython-input-18-9768ed6fd4ec>, line 1)",
     "output_type": "error",
     "traceback": [
      "\u001b[1;36m  File \u001b[1;32m\"<ipython-input-18-9768ed6fd4ec>\"\u001b[1;36m, line \u001b[1;32m1\u001b[0m\n\u001b[1;33m    user_twitter.socialaccount_set.all.0.get_avatar_url\u001b[0m\n\u001b[1;37m                                      ^\u001b[0m\n\u001b[1;31mSyntaxError\u001b[0m\u001b[1;31m:\u001b[0m invalid syntax\n"
     ]
    }
   ],
   "source": [
    "user_twitter.socialaccount_set.all.0.get_avatar_url"
   ]
  },
  {
   "cell_type": "code",
   "execution_count": 17,
   "metadata": {},
   "outputs": [
    {
     "name": "stdout",
     "output_type": "stream",
     "text": [
      "1 DNPthree twitter 1085654384686571520 {'id': 1085654384686571520, 'id_str': '1085654384686571520', 'name': 'DNP3', 'screen_name': 'DNPthree', 'location': 'USE CODE \"DNP3\" #ad', 'description': 'Paying it forward \\nhttps://t.co/KWybuM658l \\nhttps://t.co/v8r1SRIAsq \\nhttps://t.co/BsmstjRM6v \\nhttps://t.co/3q7kmhRkt2 \\nhttps://t.co/w4Tvrphyh4\\nFounder @GridTeam\\nbusiness@gridgaming.io', 'url': 'https://t.co/SHNDDMq2qA', 'entities': {'url': {'urls': [{'url': 'https://t.co/SHNDDMq2qA', 'expanded_url': 'http://www.twitch.tv/dnp3', 'display_url': 'twitch.tv/dnp3', 'indices': [0, 23]}]}, 'description': {'urls': [{'url': 'https://t.co/KWybuM658l', 'expanded_url': 'http://dnpthree.com', 'display_url': 'dnpthree.com', 'indices': [19, 42]}, {'url': 'https://t.co/v8r1SRIAsq', 'expanded_url': 'http://youtube.com/dnpthree', 'display_url': 'youtube.com/dnpthree', 'indices': [44, 67]}, {'url': 'https://t.co/BsmstjRM6v', 'expanded_url': 'http://instagram.com/dnpthree', 'display_url': 'instagram.com/dnpthree', 'indices': [69, 92]}, {'url': 'https://t.co/3q7kmhRkt2', 'expanded_url': 'http://discord.gg/dnp3', 'display_url': 'discord.gg/dnp3', 'indices': [94, 117]}, {'url': 'https://t.co/w4Tvrphyh4', 'expanded_url': 'http://tiktok.com/@dnpthree', 'display_url': 'tiktok.com/@dnpthree', 'indices': [119, 142]}]}}, 'protected': False, 'followers_count': 312754, 'friends_count': 382, 'listed_count': 103, 'created_at': 'Wed Jan 16 21:45:50 +0000 2019', 'favourites_count': 23706, 'utc_offset': None, 'time_zone': None, 'geo_enabled': True, 'verified': False, 'statuses_count': 14464, 'lang': None, 'status': {'created_at': 'Wed May 13 08:07:47 +0000 2020', 'id': 1260481855230562307, 'id_str': '1260481855230562307', 'text': '@ThiccboyAyoub @LG_beehive @HighSky Why tf am I blocked by @LG_beehive', 'truncated': False, 'entities': {'hashtags': [], 'symbols': [], 'user_mentions': [{'screen_name': 'ThiccboyAyoub', 'name': 'ThiccboyAyoub', 'id': 1183729842652663808, 'id_str': '1183729842652663808', 'indices': [0, 14]}, {'screen_name': 'LG_beehive', 'name': 'beehive', 'id': 969598146681671680, 'id_str': '969598146681671680', 'indices': [15, 26]}, {'screen_name': 'HighSky', 'name': 'HighSky', 'id': 3397337164, 'id_str': '3397337164', 'indices': [27, 35]}, {'screen_name': 'LG_beehive', 'name': 'beehive', 'id': 969598146681671680, 'id_str': '969598146681671680', 'indices': [59, 70]}], 'urls': []}, 'source': '<a href=\"http://twitter.com/download/iphone\" rel=\"nofollow\">Twitter for iPhone</a>', 'in_reply_to_status_id': 1260457930211672064, 'in_reply_to_status_id_str': '1260457930211672064', 'in_reply_to_user_id': 1183729842652663808, 'in_reply_to_user_id_str': '1183729842652663808', 'in_reply_to_screen_name': 'ThiccboyAyoub', 'geo': None, 'coordinates': None, 'place': None, 'contributors': None, 'is_quote_status': False, 'retweet_count': 0, 'favorite_count': 2, 'favorited': False, 'retweeted': False, 'lang': 'en'}, 'contributors_enabled': False, 'is_translator': False, 'is_translation_enabled': False, 'profile_background_color': 'F5F8FA', 'profile_background_image_url': None, 'profile_background_image_url_https': None, 'profile_background_tile': False, 'profile_image_url': 'http://pbs.twimg.com/profile_images/1238200454095437824/rVvoOoek_normal.jpg', 'profile_image_url_https': 'https://pbs.twimg.com/profile_images/1238200454095437824/rVvoOoek_normal.jpg', 'profile_banner_url': 'https://pbs.twimg.com/profile_banners/1085654384686571520/1577469930', 'profile_link_color': '1DA1F2', 'profile_sidebar_border_color': 'C0DEED', 'profile_sidebar_fill_color': 'DDEEF6', 'profile_text_color': '333333', 'profile_use_background_image': True, 'has_extended_profile': False, 'default_profile': True, 'default_profile_image': False, 'following': False, 'follow_request_sent': False, 'notifications': False, 'translator_type': 'none', 'suspended': False, 'needs_phone_verification': False}\n"
     ]
    }
   ],
   "source": [
    "for u in user_twitter:\n",
    "    print(u.id, u.user, u.provider, u.uid, u.extra_data)"
   ]
  }
 ],
 "metadata": {
  "kernelspec": {
   "display_name": "Django Shell-Plus",
   "language": "python",
   "name": "django_extensions"
  },
  "language_info": {
   "codemirror_mode": {
    "name": "ipython",
    "version": 3
   },
   "file_extension": ".py",
   "mimetype": "text/x-python",
   "name": "python",
   "nbconvert_exporter": "python",
   "pygments_lexer": "ipython3",
   "version": "3.6.6"
  }
 },
 "nbformat": 4,
 "nbformat_minor": 4
}
